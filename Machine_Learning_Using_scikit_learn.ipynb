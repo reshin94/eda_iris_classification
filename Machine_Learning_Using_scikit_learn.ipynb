{
  "nbformat": 4,
  "nbformat_minor": 0,
  "metadata": {
    "colab": {
      "name": "Machine Learning Using scikit-learn",
      "provenance": [],
      "authorship_tag": "ABX9TyNA01/vcNfHveUuCuF9ryA4",
      "include_colab_link": true
    },
    "kernelspec": {
      "name": "python3",
      "display_name": "Python 3"
    },
    "language_info": {
      "name": "python"
    }
  },
  "cells": [
    {
      "cell_type": "markdown",
      "metadata": {
        "id": "view-in-github",
        "colab_type": "text"
      },
      "source": [
        "<a href=\"https://colab.research.google.com/github/reshin94/eda_iris_classification/blob/master/Machine_Learning_Using_scikit_learn.ipynb\" target=\"_parent\"><img src=\"https://colab.research.google.com/assets/colab-badge.svg\" alt=\"Open In Colab\"/></a>"
      ]
    },
    {
      "cell_type": "code",
      "metadata": {
        "colab": {
          "base_uri": "https://localhost:8080/"
        },
        "id": "AeK2DC5m8gew",
        "outputId": "a2b95745-63ca-464a-daf7-b1998f7cb906"
      },
      "source": [
        "from sklearn.datasets import load_iris\n",
        "from sklearn.preprocessing import StandardScaler,Normalizer,OneHotEncoder\n",
        "import numpy as np\n",
        "\n",
        "iris=load_iris()\n",
        "normalizer = Normalizer(norm='l2').fit(iris.data)\n",
        "iris_normalized = normalizer.transform(iris.data)\n",
        "print(iris_normalized.mean(axis=0))\n",
        "onehotencoder = OneHotEncoder()\n",
        "iris_target_onehot = onehotencoder.fit_transform(iris.target.reshape(-1,1))\n",
        "print(iris_target_onehot.toarray()[[0,50,100]])"
      ],
      "execution_count": 185,
      "outputs": [
        {
          "output_type": "stream",
          "text": [
            "[0.75140029 0.40517418 0.45478362 0.14107142]\n",
            "[[1. 0. 0.]\n",
            " [0. 1. 0.]\n",
            " [0. 0. 1.]]\n"
          ],
          "name": "stdout"
        }
      ]
    },
    {
      "cell_type": "code",
      "metadata": {
        "colab": {
          "base_uri": "https://localhost:8080/"
        },
        "id": "XNY_AZXa8j6V",
        "outputId": "e1d4692f-0aca-4d25-a267-7e9d262e357d"
      },
      "source": [
        "from sklearn.impute import SimpleImputer\n",
        "#from sklearn.preprocessing import Imputer\n",
        "imputer = SimpleImputer(missing_values=np.nan, strategy='mean')\n",
        "imputer = imputer.fit(iris.data)\n",
        "iris_imputed = imputer.transform(iris.data)\n",
        "print(iris_imputed.mean(axis=0))"
      ],
      "execution_count": 187,
      "outputs": [
        {
          "output_type": "stream",
          "text": [
            "[5.84333333 3.05733333 3.758      1.19933333]\n"
          ],
          "name": "stdout"
        }
      ]
    },
    {
      "cell_type": "code",
      "metadata": {
        "id": "8Bb2qddY8u4n"
      },
      "source": [
        "from sklearn.datasets import load_iris\n",
        "import numpy as np\n",
        "from sklearn.preprocessing import StandardScaler,Normalizer,OneHotEncoder,Imputer\n",
        "iris=load_iris()\n",
        "normalizer = Normalizer(norm='l2').fit(iris.data)\n",
        "iris_normalized = normalizer.transform(iris.data)\n",
        "print(iris_normalized.mean(axis=0))\n",
        "onehotencoder = OneHotEncoder()\n",
        "iris_target_onehot = onehotencoder.fit_transform(iris.target.reshape(-1,1))\n",
        "print(iris_target_onehot.toarray()[[0,50,100]])\n",
        "imputer=Imputer(missing_values=np.nan, strategy='mean')\n",
        "imputer = imputer.fit(iris.data)\n",
        "iris_imputed = imputer.transform(iris.data)\n",
        "print(iris_imputed.mean(axis=0))"
      ],
      "execution_count": 170,
      "outputs": []
    },
    {
      "cell_type": "code",
      "metadata": {
        "id": "PNDMi6LUQt4Q"
      },
      "source": [
        ""
      ],
      "execution_count": null,
      "outputs": []
    }
  ]
}